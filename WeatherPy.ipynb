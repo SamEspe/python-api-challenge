{
 "cells": [
  {
   "cell_type": "markdown",
   "metadata": {},
   "source": [
    "# WeatherPy\n",
    "----\n",
    "\n",
    "#### Note\n",
    "* Instructions have been included for each segment. You do not have to follow them exactly, but they are included to help you think through the steps."
   ]
  },
  {
   "cell_type": "code",
   "execution_count": 1,
   "metadata": {
    "scrolled": true
   },
   "outputs": [],
   "source": [
    "# Dependencies and Setup\n",
    "import matplotlib.pyplot as plt\n",
    "import pandas as pd\n",
    "import numpy as np\n",
    "import requests\n",
    "import time\n",
    "from scipy.stats import linregress\n",
    "import csv\n",
    "\n",
    "# Import API key\n",
    "from api_keys import weather_api_key\n",
    "\n",
    "# Incorporated citipy to determine city based on latitude and longitude\n",
    "from citipy import citipy\n",
    "\n",
    "# Output File (CSV)\n",
    "output_data_file = \"output_data/cities.csv\"\n",
    "\n",
    "# Range of latitudes and longitudes\n",
    "lat_range = (-90, 90)\n",
    "lng_range = (-180, 180)"
   ]
  },
  {
   "cell_type": "markdown",
   "metadata": {},
   "source": [
    "## Generate Cities List"
   ]
  },
  {
   "cell_type": "code",
   "execution_count": 2,
   "metadata": {},
   "outputs": [
    {
     "data": {
      "text/plain": [
       "598"
      ]
     },
     "execution_count": 2,
     "metadata": {},
     "output_type": "execute_result"
    }
   ],
   "source": [
    "# List for holding lat_lngs and cities\n",
    "lat_lngs = []\n",
    "cities = []\n",
    "\n",
    "# Create a set of random lat and lng combinations\n",
    "lats = np.random.uniform(lat_range[0], lat_range[1], size=1500)\n",
    "lngs = np.random.uniform(lng_range[0], lng_range[1], size=1500)\n",
    "lat_lngs = zip(lats, lngs)\n",
    "\n",
    "# Identify nearest city for each lat, lng combination\n",
    "for lat_lng in lat_lngs:\n",
    "    city = citipy.nearest_city(lat_lng[0], lat_lng[1]).city_name\n",
    "    \n",
    "    # If the city is unique, then add it to a our cities list\n",
    "    if city not in cities:\n",
    "        cities.append(city)\n",
    "\n",
    "# Print the city count to confirm sufficient count\n",
    "len(cities)"
   ]
  },
  {
   "cell_type": "markdown",
   "metadata": {},
   "source": [
    "### Perform API Calls\n",
    "* Perform a weather check on each city using a series of successive API calls.\n",
    "* Include a print log of each city as it's being processed (with the city number and city name).\n"
   ]
  },
  {
   "cell_type": "code",
   "execution_count": 3,
   "metadata": {},
   "outputs": [],
   "source": [
    "# Create a base URL for OpenWeather API calls\n",
    "\n",
    "base_url = \"https://api.openweathermap.org/data/2.5/weather?q=\"\n",
    "\n",
    "api_key = f\"&appid={weather_api_key}&units=imperial\""
   ]
  },
  {
   "cell_type": "code",
   "execution_count": 4,
   "metadata": {
    "scrolled": false
   },
   "outputs": [
    {
     "name": "stdout",
     "output_type": "stream",
     "text": [
      "Requesting weather for linxia\n",
      "Requesting weather for rikitea\n",
      "Requesting weather for horsham\n",
      "Requesting weather for port alfred\n",
      "Requesting weather for nome\n",
      "Requesting weather for hithadhoo\n",
      "Requesting weather for lagos\n",
      "Requesting weather for castro\n",
      "Requesting weather for torbay\n",
      "Requesting weather for new norfolk\n",
      "Requesting weather for sarangani\n",
      "Requesting weather for tuktoyaktuk\n",
      "Requesting weather for bonavista\n",
      "Requesting weather for tiksi\n",
      "Requesting weather for bredasdorp\n",
      "Requesting weather for bluff\n",
      "Requesting weather for nikolskoye\n",
      "Requesting weather for albany\n",
      "Requesting weather for saskylakh\n",
      "Requesting weather for jamestown\n",
      "Requesting weather for hervey bay\n",
      "Requesting weather for lebu\n",
      "Requesting weather for vaini\n",
      "Requesting weather for coquimbo\n",
      "Requesting weather for nizhniy odes\n",
      "Requesting weather for constitucion\n",
      "Requesting weather for hermanus\n",
      "Requesting weather for evensk\n",
      "Requesting weather for thompson\n",
      "Requesting weather for nabire\n",
      "Requesting weather for atar\n",
      "Requesting weather for norman wells\n",
      "Requesting weather for victoria\n",
      "Requesting weather for hobart\n",
      "Requesting weather for oktyabrskoye\n",
      "Requesting weather for avarua\n",
      "Requesting weather for busselton\n",
      "Requesting weather for havre-saint-pierre\n",
      "Requesting weather for isangel\n",
      "Requesting weather for qaanaaq\n",
      "Requesting weather for hilo\n",
      "Requesting weather for zeya\n",
      "Requesting weather for teknaf\n",
      "There was an error for Teknāf\n",
      "Requesting weather for tumannyy\n",
      "There was an error for tumannyy\n",
      "Requesting weather for sao filipe\n",
      "Requesting weather for esperance\n",
      "Requesting weather for nantucket\n",
      "Requesting weather for bethel\n",
      "Requesting weather for sentyabrskiy\n",
      "There was an error for sentyabrskiy\n",
      "Requesting weather for thanatpin\n",
      "Requesting weather for khani\n",
      "Requesting weather for broome\n",
      "Requesting weather for pevek\n",
      "Requesting weather for sambava\n",
      "Requesting weather for ushuaia\n",
      "Requesting weather for kavaratti\n",
      "Requesting weather for mys shmidta\n",
      "There was an error for mys shmidta\n",
      "Requesting weather for cape town\n",
      "Requesting weather for kendari\n",
      "Requesting weather for riyadh\n",
      "Requesting weather for kavieng\n",
      "Requesting weather for eureka\n",
      "Requesting weather for heihe\n",
      "Requesting weather for taolanaro\n",
      "There was an error for taolanaro\n",
      "Requesting weather for kirakira\n",
      "Requesting weather for portland\n",
      "Requesting weather for hami\n",
      "Requesting weather for atuona\n",
      "Requesting weather for half moon bay\n",
      "Requesting weather for provideniya\n",
      "Requesting weather for denau\n",
      "There was an error for denau\n",
      "Requesting weather for port elizabeth\n",
      "Requesting weather for illoqqortoormiut\n",
      "There was an error for illoqqortoormiut\n",
      "Requesting weather for hue\n",
      "Requesting weather for punta arenas\n",
      "Requesting weather for lalomanu\n",
      "There was an error for lalomanu\n",
      "Requesting weather for lyubeshiv\n",
      "There was an error for lyubeshiv\n",
      "Requesting weather for barrow\n",
      "Requesting weather for sainte-maxime\n",
      "Requesting weather for denpasar\n",
      "Requesting weather for cherskiy\n",
      "Requesting weather for pemangkat\n",
      "Requesting weather for kudahuvadhoo\n",
      "Requesting weather for saint-michel-des-saints\n",
      "Requesting weather for sorland\n",
      "Requesting weather for barentsburg\n",
      "There was an error for barentsburg\n",
      "Requesting weather for brae\n",
      "Requesting weather for kwinana\n",
      "Requesting weather for butaritari\n",
      "Requesting weather for kodiak\n",
      "Requesting weather for kapaa\n",
      "Requesting weather for yulara\n",
      "Requesting weather for la grande\n",
      "Requesting weather for maceio\n",
      "Requesting weather for cururupu\n",
      "Requesting weather for narsaq\n",
      "Requesting weather for wahran\n",
      "There was an error for wahran\n",
      "Requesting weather for fukue\n",
      "There was an error for Fukuechō\n",
      "Requesting weather for hirado\n",
      "Requesting weather for kegayli\n",
      "There was an error for kegayli\n",
      "Requesting weather for yamada\n",
      "Requesting weather for namibe\n",
      "Requesting weather for yilan\n",
      "Requesting weather for mataura\n",
      "Requesting weather for vanimo\n",
      "Requesting weather for bambous virieux\n",
      "Requesting weather for sao sebastiao\n",
      "Requesting weather for arraial do cabo\n",
      "Requesting weather for attawapiskat\n",
      "There was an error for attawapiskat\n",
      "Requesting weather for santa cruz\n",
      "Requesting weather for peniche\n",
      "Requesting weather for abu zabad\n",
      "There was an error for Abū Zabad\n",
      "Requesting weather for roshchino\n",
      "Requesting weather for mount gambier\n",
      "Requesting weather for ilobu\n",
      "Requesting weather for maple creek\n",
      "Requesting weather for aquiraz\n",
      "Requesting weather for clarksburg\n",
      "Requesting weather for carnarvon\n",
      "Requesting weather for diofior\n",
      "Requesting weather for hasaki\n",
      "Requesting weather for kamenskoye\n",
      "There was an error for kamenskoye\n",
      "Requesting weather for cabinda\n",
      "Requesting weather for georgetown\n",
      "Requesting weather for mayo\n",
      "Requesting weather for sao joao da barra\n",
      "Requesting weather for pandamatenga\n",
      "Requesting weather for meadow lake\n",
      "Requesting weather for klaksvik\n",
      "Requesting weather for moose factory\n",
      "Requesting weather for puerto escondido\n",
      "Requesting weather for vila franca do campo\n",
      "Requesting weather for margate\n",
      "Requesting weather for mar del plata\n",
      "Requesting weather for yellowknife\n",
      "Requesting weather for baruun-urt\n",
      "Requesting weather for prince rupert\n",
      "Requesting weather for nguiu\n",
      "There was an error for nguiu\n",
      "Requesting weather for harbour breton\n",
      "Requesting weather for simpang\n",
      "Requesting weather for samusu\n",
      "There was an error for samusu\n",
      "Requesting weather for alofi\n",
      "Requesting weather for belushya guba\n",
      "There was an error for belushya guba\n",
      "Requesting weather for vanavara\n",
      "Requesting weather for chokurdakh\n",
      "Requesting weather for anahuac\n",
      "Requesting weather for magnolia\n",
      "Requesting weather for flinders\n",
      "Requesting weather for kaeo\n",
      "Requesting weather for guarapari\n",
      "Requesting weather for esmeraldas\n",
      "Requesting weather for yelets\n",
      "Requesting weather for tiarei\n",
      "Requesting weather for salalah\n",
      "Requesting weather for baringo\n",
      "Requesting weather for the valley\n",
      "Requesting weather for karaul\n",
      "There was an error for karaul\n",
      "Requesting weather for fortuna\n",
      "Requesting weather for vardo\n",
      "Requesting weather for ambodifototra\n",
      "There was an error for ambodifototra\n",
      "Requesting weather for savannah bight\n",
      "Requesting weather for mahebourg\n",
      "Requesting weather for dingle\n",
      "Requesting weather for puerto ayora\n",
      "Requesting weather for zhangye\n",
      "Requesting weather for aljezur\n",
      "Requesting weather for togur\n",
      "Requesting weather for ribeira grande\n",
      "Requesting weather for ipixuna\n",
      "Requesting weather for atasu\n",
      "There was an error for Atasū\n",
      "Requesting weather for zyryanka\n",
      "Requesting weather for abong mbang\n",
      "Requesting weather for varzelandia\n",
      "Requesting weather for sabha\n",
      "Requesting weather for miri\n",
      "Requesting weather for bukan\n",
      "There was an error for Būkān\n",
      "Requesting weather for hovd\n",
      "Requesting weather for burica\n",
      "There was an error for burica\n",
      "Requesting weather for gravdal\n",
      "Requesting weather for ilulissat\n",
      "Requesting weather for viedma\n",
      "Requesting weather for khash\n",
      "There was an error for Khāsh\n",
      "Requesting weather for beringovskiy\n",
      "Requesting weather for albano laziale\n",
      "Requesting weather for pacifica\n",
      "Requesting weather for aklavik\n",
      "Requesting weather for kindu\n",
      "Requesting weather for safwah\n",
      "There was an error for safwah\n",
      "Requesting weather for san francisco\n",
      "Requesting weather for louisbourg\n",
      "There was an error for louisbourg\n",
      "Requesting weather for amderma\n",
      "There was an error for amderma\n",
      "Requesting weather for huarmey\n",
      "Requesting weather for stantsionno-oyashinskiy\n",
      "Requesting weather for iquique\n",
      "Requesting weather for beba\n",
      "Requesting weather for tombouctou\n",
      "Requesting weather for vaitape\n",
      "Requesting weather for pierre\n",
      "Requesting weather for barcelos\n",
      "Requesting weather for saint-joseph\n",
      "Requesting weather for bolungarvik\n",
      "There was an error for bolungarvik\n",
      "Requesting weather for shaunavon\n",
      "Requesting weather for sosnovo-ozerskoye\n",
      "Requesting weather for te anau\n",
      "Requesting weather for komsomolskiy\n",
      "Requesting weather for cumaribo\n",
      "There was an error for cumaribo\n",
      "Requesting weather for nouakchott\n",
      "Requesting weather for kismayo\n",
      "Requesting weather for leningradskiy\n",
      "Requesting weather for saleaula\n",
      "There was an error for saleaula\n",
      "Requesting weather for tirat karmel\n",
      "Requesting weather for moron\n",
      "Requesting weather for kirtipur\n",
      "Requesting weather for dikson\n",
      "Requesting weather for palabuhanratu\n",
      "There was an error for palabuhanratu\n",
      "Requesting weather for hope\n",
      "Requesting weather for hamilton\n",
      "Requesting weather for port macquarie\n",
      "Requesting weather for onguday\n",
      "Requesting weather for muktagachha\n",
      "There was an error for muktagachha\n"
     ]
    },
    {
     "name": "stdout",
     "output_type": "stream",
     "text": [
      "Requesting weather for svetlaya\n",
      "Requesting weather for kapit\n",
      "Requesting weather for pisco\n",
      "Requesting weather for hun\n",
      "There was an error for Hūn\n",
      "Requesting weather for tapaua\n",
      "There was an error for tapaua\n",
      "Requesting weather for faanui\n",
      "Requesting weather for cabo san lucas\n",
      "Requesting weather for batagay-alyta\n",
      "Requesting weather for paamiut\n",
      "Requesting weather for shimoda\n",
      "Requesting weather for ostrowiec swietokrzyski\n",
      "There was an error for Ostrowiec Świętokrzyski\n",
      "Requesting weather for wanaka\n",
      "Requesting weather for lianzhou\n",
      "Requesting weather for babanusah\n",
      "There was an error for babanusah\n",
      "Requesting weather for biak\n",
      "Requesting weather for kidal\n",
      "Requesting weather for kruisfontein\n",
      "Requesting weather for rio grande\n",
      "Requesting weather for ponta do sol\n",
      "Requesting weather for qom\n",
      "Requesting weather for east london\n",
      "Requesting weather for muyezerskiy\n",
      "Requesting weather for thinadhoo\n",
      "Requesting weather for severo-kurilsk\n",
      "Requesting weather for belebey\n",
      "Requesting weather for puerto del rosario\n",
      "Requesting weather for kirgiz-miyaki\n",
      "Requesting weather for high level\n",
      "Requesting weather for katsuura\n",
      "Requesting weather for mayor pablo lagerenza\n",
      "Requesting weather for buala\n",
      "Requesting weather for nizhneyansk\n",
      "There was an error for nizhneyansk\n",
      "Requesting weather for makurdi\n",
      "Requesting weather for orcopampa\n",
      "Requesting weather for minab\n",
      "There was an error for Mīnāb\n",
      "Requesting weather for bend\n",
      "Requesting weather for tasiilaq\n",
      "Requesting weather for parsons\n",
      "Requesting weather for medina\n",
      "Requesting weather for pushkino\n",
      "Requesting weather for yanchukan\n",
      "There was an error for yanchukan\n",
      "Requesting weather for shingu\n",
      "There was an error for Shingū\n",
      "Requesting weather for gobabis\n",
      "Requesting weather for mareeba\n",
      "Requesting weather for sur\n",
      "Requesting weather for port blair\n",
      "Requesting weather for vadlapudi\n",
      "There was an error for Vadlapūdi\n",
      "Requesting weather for lamballe\n",
      "Requesting weather for belyy yar\n",
      "Requesting weather for marsaxlokk\n",
      "Requesting weather for concarneau\n",
      "Requesting weather for saint anthony\n",
      "Requesting weather for samarai\n",
      "Requesting weather for palmer\n",
      "Requesting weather for upernavik\n",
      "Requesting weather for ugoofaaru\n",
      "Requesting weather for tequila\n",
      "Requesting weather for chibombo\n",
      "Requesting weather for homer\n",
      "Requesting weather for rehoboth\n",
      "Requesting weather for cedar city\n",
      "Requesting weather for balakhta\n",
      "Requesting weather for longyearbyen\n",
      "Requesting weather for codrington\n",
      "Requesting weather for mutsamudu\n",
      "There was an error for mutsamudu\n",
      "Requesting weather for ruatoria\n",
      "There was an error for ruatoria\n",
      "Requesting weather for abu kamal\n",
      "Requesting weather for ishigaki\n",
      "Requesting weather for matagami\n",
      "Requesting weather for novoagansk\n",
      "Requesting weather for barsovo\n",
      "Requesting weather for ballina\n",
      "Requesting weather for alyangula\n",
      "Requesting weather for iralaya\n",
      "Requesting weather for lompoc\n",
      "Requesting weather for solovetskiy\n",
      "There was an error for solovetskiy\n",
      "Requesting weather for meyungs\n",
      "There was an error for meyungs\n",
      "Requesting weather for honiara\n",
      "Requesting weather for verkhnevilyuysk\n",
      "Requesting weather for smidovich\n",
      "Requesting weather for aykhal\n",
      "Requesting weather for verkhoyansk\n",
      "Requesting weather for gazimurskiy zavod\n",
      "Requesting weather for umm durman\n",
      "There was an error for umm durman\n",
      "Requesting weather for port hardy\n",
      "Requesting weather for marcona\n",
      "There was an error for marcona\n",
      "Requesting weather for kazalinsk\n",
      "There was an error for kazalinsk\n",
      "Requesting weather for zhanaozen\n",
      "Requesting weather for westport\n",
      "Requesting weather for dujuma\n",
      "There was an error for dujuma\n",
      "Requesting weather for aloleng\n",
      "Requesting weather for mount isa\n",
      "Requesting weather for arandis\n",
      "Requesting weather for muros\n",
      "Requesting weather for bandarbeyla\n",
      "Requesting weather for mashhad\n",
      "Requesting weather for ridgecrest\n",
      "Requesting weather for mirnyy\n",
      "Requesting weather for bazarnyy karabulak\n",
      "Requesting weather for sibu\n",
      "Requesting weather for vestmannaeyjar\n",
      "Requesting weather for ambilobe\n",
      "Requesting weather for kaitangata\n",
      "Requesting weather for platteville\n",
      "Requesting weather for coulihaut\n",
      "There was an error for coulihaut\n",
      "Requesting weather for cozumel\n",
      "Requesting weather for damavand\n",
      "There was an error for Damāvand\n",
      "Requesting weather for gazojak\n",
      "Requesting weather for zalesovo\n",
      "Requesting weather for anantapur\n",
      "Requesting weather for governador dix-sept rosado\n",
      "Requesting weather for gurgan\n",
      "There was an error for gurgan\n",
      "Requesting weather for alotau\n",
      "There was an error for alotau\n",
      "Requesting weather for quebec\n",
      "Requesting weather for port lincoln\n",
      "Requesting weather for carora\n",
      "Requesting weather for yar-sale\n",
      "Requesting weather for bombay\n",
      "Requesting weather for ketchikan\n",
      "Requesting weather for petropavlovsk-kamchatskiy\n",
      "Requesting weather for sinnamary\n",
      "Requesting weather for camapua\n",
      "Requesting weather for kleck\n",
      "There was an error for kleck\n",
      "Requesting weather for coahuayana\n",
      "Requesting weather for baykit\n",
      "Requesting weather for yirol\n",
      "There was an error for yirol\n",
      "Requesting weather for roald\n",
      "Requesting weather for poquoson\n",
      "Requesting weather for vibo valentia\n",
      "Requesting weather for kiama\n",
      "Requesting weather for dukat\n",
      "Requesting weather for saint george\n",
      "Requesting weather for opuwo\n",
      "Requesting weather for turukhansk\n",
      "Requesting weather for banjarmasin\n",
      "Requesting weather for yeppoon\n",
      "Requesting weather for luau\n",
      "Requesting weather for tir pol\n",
      "There was an error for tir pol\n",
      "Requesting weather for santa isabel do rio negro\n",
      "Requesting weather for cedar lake\n",
      "Requesting weather for kalmunai\n",
      "Requesting weather for dunedin\n",
      "Requesting weather for uige\n",
      "Requesting weather for bengkulu\n",
      "Requesting weather for capitao poco\n",
      "Requesting weather for camacha\n",
      "Requesting weather for sohag\n",
      "Requesting weather for salmo\n",
      "Requesting weather for poum\n",
      "Requesting weather for caravelas\n",
      "Requesting weather for warqla\n",
      "There was an error for warqla\n",
      "Requesting weather for bocholt\n",
      "Requesting weather for inirida\n",
      "Requesting weather for pauini\n",
      "Requesting weather for sandwick\n",
      "Requesting weather for lake havasu city\n",
      "Requesting weather for ahuimanu\n",
      "There was an error for ‘Āhuimanu\n",
      "Requesting weather for yumen\n",
      "Requesting weather for portobelo\n",
      "Requesting weather for methoni\n",
      "Requesting weather for wilmington\n",
      "Requesting weather for tsihombe\n",
      "There was an error for tsihombe\n",
      "Requesting weather for kalaleh\n",
      "There was an error for Kalāleh\n",
      "Requesting weather for iqaluit\n",
      "Requesting weather for luderitz\n",
      "Requesting weather for galiwinku\n",
      "There was an error for galiwinku\n",
      "Requesting weather for airai\n",
      "Requesting weather for sitka\n",
      "Requesting weather for liverpool\n",
      "Requesting weather for cidreira\n",
      "Requesting weather for berbera\n",
      "Requesting weather for dubuque\n",
      "Requesting weather for moree\n",
      "Requesting weather for vaitupu\n",
      "There was an error for vaitupu\n",
      "Requesting weather for praia da vitoria\n",
      "Requesting weather for lithakia\n",
      "Requesting weather for carazinho\n",
      "Requesting weather for san cristobal\n",
      "Requesting weather for pleshanovo\n",
      "Requesting weather for kutum\n",
      "Requesting weather for olafsvik\n",
      "Requesting weather for kelowna\n",
      "Requesting weather for mahenge\n",
      "Requesting weather for abonnema\n",
      "Requesting weather for nelson bay\n",
      "Requesting weather for qasigiannguit\n",
      "Requesting weather for lorengau\n",
      "Requesting weather for karasjok\n",
      "Requesting weather for virden\n",
      "Requesting weather for businga\n",
      "Requesting weather for sangar\n",
      "Requesting weather for saint-philippe\n",
      "Requesting weather for honningsvag\n",
      "Requesting weather for kodinsk\n",
      "Requesting weather for cheuskiny\n",
      "There was an error for cheuskiny\n",
      "Requesting weather for itarema\n",
      "Requesting weather for donskoye\n",
      "Requesting weather for ende\n",
      "Requesting weather for zuwarah\n",
      "There was an error for Zuwārah\n",
      "Requesting weather for marawi\n",
      "Requesting weather for kahului\n",
      "Requesting weather for yakeshi\n",
      "Requesting weather for cayenne\n",
      "Requesting weather for scottsbluff\n",
      "Requesting weather for ixtapa\n",
      "Requesting weather for challapata\n",
      "Requesting weather for dongsheng\n",
      "Requesting weather for zaymishche\n",
      "Requesting weather for buta\n",
      "Requesting weather for dicabisagan\n",
      "Requesting weather for iringa\n",
      "Requesting weather for oktyabrskiy\n",
      "Requesting weather for ola\n",
      "Requesting weather for egvekinot\n",
      "Requesting weather for salinopolis\n",
      "Requesting weather for alice springs\n",
      "Requesting weather for mezhdurechensk\n",
      "Requesting weather for khatanga\n",
      "Requesting weather for russell\n",
      "Requesting weather for glasgow\n",
      "Requesting weather for dong hoi\n"
     ]
    },
    {
     "name": "stdout",
     "output_type": "stream",
     "text": [
      "Requesting weather for port-gentil\n",
      "Requesting weather for kwekwe\n",
      "Requesting weather for takoradi\n",
      "Requesting weather for chaman\n",
      "Requesting weather for stokmarknes\n",
      "Requesting weather for pervomayskoye\n",
      "Requesting weather for sergeyevka\n",
      "Requesting weather for taoudenni\n",
      "Requesting weather for dandong\n",
      "Requesting weather for vila velha\n",
      "Requesting weather for yining\n",
      "Requesting weather for umm kaddadah\n",
      "Requesting weather for vila\n",
      "Requesting weather for porto nacional\n",
      "Requesting weather for milingimbi\n",
      "There was an error for milingimbi\n",
      "Requesting weather for yola\n",
      "Requesting weather for xingyi\n",
      "Requesting weather for am timan\n",
      "Requesting weather for bathsheba\n",
      "Requesting weather for bagdarin\n",
      "Requesting weather for celestun\n",
      "Requesting weather for udachnyy\n",
      "Requesting weather for pouebo\n",
      "Requesting weather for buraydah\n",
      "Requesting weather for tymovskoye\n",
      "Requesting weather for potiskum\n",
      "Requesting weather for chapais\n",
      "Requesting weather for klaeng\n",
      "Requesting weather for rengali\n",
      "There was an error for Rengāli\n",
      "Requesting weather for karauzyak\n",
      "There was an error for karauzyak\n",
      "Requesting weather for maldonado\n",
      "Requesting weather for victor harbor\n",
      "Requesting weather for gao\n",
      "Requesting weather for cherdyn\n",
      "Requesting weather for santana do acarau\n",
      "Requesting weather for saint-augustin\n",
      "Requesting weather for marsa matruh\n",
      "There was an error for Marsá Maţrūḩ\n",
      "Requesting weather for college\n",
      "Requesting weather for burnie\n",
      "Requesting weather for grand river south east\n",
      "There was an error for grand river south east\n",
      "Requesting weather for dudinka\n",
      "Requesting weather for fairbanks\n",
      "Requesting weather for guiyang\n",
      "Requesting weather for columbus\n",
      "Requesting weather for vagamo\n",
      "Requesting weather for abha\n",
      "There was an error for Abhā\n",
      "Requesting weather for chagda\n",
      "There was an error for chagda\n",
      "Requesting weather for andselv\n",
      "There was an error for andselv\n",
      "Requesting weather for maningrida\n",
      "Requesting weather for sabang\n",
      "Requesting weather for sola\n",
      "Requesting weather for somotillo\n",
      "Requesting weather for gap\n",
      "Requesting weather for asyut\n",
      "Requesting weather for tabou\n",
      "Requesting weather for karamea\n",
      "There was an error for karamea\n",
      "Requesting weather for kholodnyy\n",
      "Requesting weather for madimba\n",
      "Requesting weather for vertou\n",
      "Requesting weather for san borja\n",
      "Requesting weather for roebourne\n",
      "Requesting weather for la ronge\n",
      "Requesting weather for ikalamavony\n",
      "Requesting weather for ostrovnoy\n",
      "Requesting weather for san ramon\n",
      "Requesting weather for marsh harbour\n",
      "Requesting weather for kang\n",
      "Requesting weather for kapustin yar-1\n",
      "There was an error for kapustin yar-1\n",
      "Requesting weather for vyshkov\n",
      "Requesting weather for kobelyaky\n",
      "Requesting weather for bakchar\n",
      "Requesting weather for tura\n",
      "Requesting weather for staraya mayna\n",
      "Requesting weather for koungou\n",
      "Requesting weather for morwa\n",
      "Requesting weather for boyuibe\n",
      "Requesting weather for asmar\n",
      "There was an error for Āsmār\n",
      "Requesting weather for kulhudhuffushi\n",
      "Requesting weather for gwembe\n",
      "Requesting weather for sao domingos\n",
      "Requesting weather for guerrero negro\n",
      "Requesting weather for nanortalik\n",
      "Requesting weather for kichera\n",
      "Requesting weather for namasuba\n",
      "Requesting weather for ati\n",
      "Requesting weather for tatawin\n",
      "Requesting weather for monrovia\n",
      "Requesting weather for pedra azul\n",
      "Requesting weather for sabaudia\n",
      "Requesting weather for nuevo casas grandes\n",
      "Requesting weather for ukiah\n",
      "Requesting weather for dolores\n",
      "Requesting weather for touros\n",
      "Requesting weather for linhares\n",
      "Requesting weather for richards bay\n",
      "Requesting weather for xiangdong\n",
      "There was an error for xiangdong\n",
      "Requesting weather for deputatskiy\n",
      "Requesting weather for greencastle\n",
      "Requesting weather for phan thiet\n",
      "Requesting weather for pacific grove\n",
      "Requesting weather for shenzhen\n",
      "Requesting weather for romny\n",
      "Requesting weather for teya\n",
      "Requesting weather for asau\n",
      "There was an error for Asău\n",
      "Requesting weather for rodrigues alves\n",
      "Requesting weather for tabiauea\n",
      "There was an error for tabiauea\n",
      "Requesting weather for sogdiondon\n",
      "There was an error for sogdiondon\n",
      "Requesting weather for chuy\n",
      "Requesting weather for higuey\n",
      "There was an error for higuey\n",
      "Requesting weather for nyagan\n",
      "Requesting weather for walvis bay\n",
      "Requesting weather for priverno\n",
      "Requesting weather for porbandar\n",
      "Requesting weather for coracora\n",
      "Requesting weather for erzin\n",
      "Requesting weather for bjornevatn\n",
      "Requesting weather for naze\n",
      "Requesting weather for dolbeau\n",
      "There was an error for dolbeau\n",
      "Requesting weather for valparaiso\n",
      "Requesting weather for ahipara\n",
      "Requesting weather for karakendzha\n",
      "There was an error for karakendzha\n",
      "Requesting weather for mrirt\n",
      "There was an error for mrirt\n",
      "Requesting weather for dalvik\n",
      "Requesting weather for ewa beach\n",
      "Requesting weather for atambua\n",
      "Requesting weather for shellbrook\n",
      "Requesting weather for sechura\n",
      "Requesting weather for nhulunbuy\n",
      "Requesting weather for gualeguay\n",
      "Requesting weather for mehamn\n",
      "Requesting weather for avera\n",
      "Requesting weather for vostok\n",
      "Requesting weather for trinidad\n",
      "Requesting weather for scoarta\n",
      "There was an error for Scoarţa\n",
      "Requesting weather for maniwaki\n",
      "Requesting weather for luohe\n",
      "Requesting weather for katherine\n",
      "Requesting weather for whitianga\n",
      "Requesting weather for marystown\n",
      "Requesting weather for cam pha\n",
      "There was an error for cam pha\n",
      "Requesting weather for kenai\n",
      "Requesting weather for menongue\n",
      "Requesting weather for vao\n",
      "Requesting weather for comodoro rivadavia\n",
      "Requesting weather for mizan teferi\n",
      "There was an error for Mīzan Teferī\n",
      "Requesting weather for usva\n",
      "There was an error for usva\n",
      "Requesting weather for san patricio\n",
      "Requesting weather for fairview\n",
      "Requesting weather for lethem\n",
      "Requesting weather for kattivakkam\n",
      "There was an error for Kattivākkam\n",
      "Requesting weather for sawtell\n",
      "Requesting weather for la rioja\n",
      "Requesting weather for graaff-reinet\n",
      "Requesting weather for san quintin\n",
      "Requesting weather for antofagasta\n",
      "Requesting weather for hambantota\n",
      "Requesting weather for zhireken\n"
     ]
    }
   ],
   "source": [
    "for city in cities:\n",
    "    # Construct URL\n",
    "    call_url = base_url + city + api_key\n",
    "    \n",
    "    try:\n",
    "        \n",
    "    # Use URL to retrieve data from OpenWeatherAPI\n",
    "    \n",
    "        response = requests.get(call_url)\n",
    "        weather_data = response.json()\n",
    "      \n",
    "    # Write city to display\n",
    "        print(f'Requesting weather for {city}')\n",
    "        \n",
    "    # Create output line\n",
    "        city = weather_data['name'] \n",
    "        lon = weather_data['coord']['lon']\n",
    "        lat = weather_data['coord']['lat']\n",
    "        max_temp = weather_data['main']['temp_max']\n",
    "        humidity = weather_data['main']['humidity']\n",
    "        cloudiness = weather_data['clouds']['all']\n",
    "        wind_speed = weather_data['wind']['speed']\n",
    "        country_code = weather_data['sys']['country']\n",
    "        date = weather_data['dt']\n",
    "\n",
    "        line = f'{city}, {lat}, {lon}, {max_temp}, {humidity}, {cloudiness}, {wind_speed}, {country_code}, {date} \\n'\n",
    "    \n",
    "    # Print output line to CSV\n",
    "        with open (\"output_data/cities.csv\", 'a') as file:\n",
    "            file.write(line)\n",
    "    \n",
    "        time.sleep(1)\n",
    "        \n",
    "    except:\n",
    "        print(f\"There was an error for {city}\")"
   ]
  },
  {
   "cell_type": "markdown",
   "metadata": {},
   "source": [
    "### Convert Raw Data to DataFrame\n",
    "* Export the city data into a .csv.\n",
    "* Display the DataFrame"
   ]
  },
  {
   "cell_type": "code",
   "execution_count": 3,
   "metadata": {
    "scrolled": false
   },
   "outputs": [
    {
     "data": {
      "text/html": [
       "<div>\n",
       "<style scoped>\n",
       "    .dataframe tbody tr th:only-of-type {\n",
       "        vertical-align: middle;\n",
       "    }\n",
       "\n",
       "    .dataframe tbody tr th {\n",
       "        vertical-align: top;\n",
       "    }\n",
       "\n",
       "    .dataframe thead th {\n",
       "        text-align: right;\n",
       "    }\n",
       "</style>\n",
       "<table border=\"1\" class=\"dataframe\">\n",
       "  <thead>\n",
       "    <tr style=\"text-align: right;\">\n",
       "      <th></th>\n",
       "      <th>City Name</th>\n",
       "      <th>Lat</th>\n",
       "      <th>Long</th>\n",
       "      <th>Max Temp</th>\n",
       "      <th>Humidity</th>\n",
       "      <th>Cloudiness</th>\n",
       "      <th>Wind Speed</th>\n",
       "      <th>Country</th>\n",
       "      <th>Date</th>\n",
       "    </tr>\n",
       "  </thead>\n",
       "  <tbody>\n",
       "    <tr>\n",
       "      <th>0</th>\n",
       "      <td>Linxia Chengguanzhen</td>\n",
       "      <td>35.6003</td>\n",
       "      <td>103.2064</td>\n",
       "      <td>69.78</td>\n",
       "      <td>81</td>\n",
       "      <td>96</td>\n",
       "      <td>3.87</td>\n",
       "      <td>CN</td>\n",
       "      <td>1660339551</td>\n",
       "    </tr>\n",
       "    <tr>\n",
       "      <th>1</th>\n",
       "      <td>Rikitea</td>\n",
       "      <td>-23.1203</td>\n",
       "      <td>-134.9692</td>\n",
       "      <td>73.18</td>\n",
       "      <td>73</td>\n",
       "      <td>100</td>\n",
       "      <td>23.51</td>\n",
       "      <td>PF</td>\n",
       "      <td>1660339554</td>\n",
       "    </tr>\n",
       "    <tr>\n",
       "      <th>2</th>\n",
       "      <td>Horsham</td>\n",
       "      <td>51.0640</td>\n",
       "      <td>-0.3272</td>\n",
       "      <td>76.05</td>\n",
       "      <td>52</td>\n",
       "      <td>0</td>\n",
       "      <td>5.75</td>\n",
       "      <td>GB</td>\n",
       "      <td>1660339557</td>\n",
       "    </tr>\n",
       "    <tr>\n",
       "      <th>3</th>\n",
       "      <td>Port Alfred</td>\n",
       "      <td>-33.5906</td>\n",
       "      <td>26.8910</td>\n",
       "      <td>59.13</td>\n",
       "      <td>72</td>\n",
       "      <td>98</td>\n",
       "      <td>15.43</td>\n",
       "      <td>ZA</td>\n",
       "      <td>1660339559</td>\n",
       "    </tr>\n",
       "    <tr>\n",
       "      <th>4</th>\n",
       "      <td>Nome</td>\n",
       "      <td>64.5011</td>\n",
       "      <td>-165.4064</td>\n",
       "      <td>51.87</td>\n",
       "      <td>87</td>\n",
       "      <td>100</td>\n",
       "      <td>9.22</td>\n",
       "      <td>US</td>\n",
       "      <td>1660339561</td>\n",
       "    </tr>\n",
       "    <tr>\n",
       "      <th>...</th>\n",
       "      <td>...</td>\n",
       "      <td>...</td>\n",
       "      <td>...</td>\n",
       "      <td>...</td>\n",
       "      <td>...</td>\n",
       "      <td>...</td>\n",
       "      <td>...</td>\n",
       "      <td>...</td>\n",
       "      <td>...</td>\n",
       "    </tr>\n",
       "    <tr>\n",
       "      <th>504</th>\n",
       "      <td>Graaff-Reinet</td>\n",
       "      <td>-32.2522</td>\n",
       "      <td>24.5308</td>\n",
       "      <td>50.92</td>\n",
       "      <td>74</td>\n",
       "      <td>52</td>\n",
       "      <td>2.98</td>\n",
       "      <td>ZA</td>\n",
       "      <td>1660340624</td>\n",
       "    </tr>\n",
       "    <tr>\n",
       "      <th>505</th>\n",
       "      <td>San Quintín</td>\n",
       "      <td>30.4833</td>\n",
       "      <td>-115.9500</td>\n",
       "      <td>76.95</td>\n",
       "      <td>70</td>\n",
       "      <td>13</td>\n",
       "      <td>12.44</td>\n",
       "      <td>MX</td>\n",
       "      <td>1660340625</td>\n",
       "    </tr>\n",
       "    <tr>\n",
       "      <th>506</th>\n",
       "      <td>Antofagasta</td>\n",
       "      <td>-23.6500</td>\n",
       "      <td>-70.4000</td>\n",
       "      <td>58.28</td>\n",
       "      <td>80</td>\n",
       "      <td>58</td>\n",
       "      <td>9.40</td>\n",
       "      <td>CL</td>\n",
       "      <td>1660340437</td>\n",
       "    </tr>\n",
       "    <tr>\n",
       "      <th>507</th>\n",
       "      <td>Hambantota</td>\n",
       "      <td>6.1241</td>\n",
       "      <td>81.1185</td>\n",
       "      <td>77.34</td>\n",
       "      <td>94</td>\n",
       "      <td>20</td>\n",
       "      <td>2.30</td>\n",
       "      <td>LK</td>\n",
       "      <td>1660340629</td>\n",
       "    </tr>\n",
       "    <tr>\n",
       "      <th>508</th>\n",
       "      <td>Zhireken</td>\n",
       "      <td>52.8249</td>\n",
       "      <td>117.3076</td>\n",
       "      <td>51.60</td>\n",
       "      <td>94</td>\n",
       "      <td>15</td>\n",
       "      <td>1.16</td>\n",
       "      <td>RU</td>\n",
       "      <td>1660340631</td>\n",
       "    </tr>\n",
       "  </tbody>\n",
       "</table>\n",
       "<p>509 rows × 9 columns</p>\n",
       "</div>"
      ],
      "text/plain": [
       "                City Name      Lat      Long  Max Temp  Humidity  Cloudiness  \\\n",
       "0    Linxia Chengguanzhen  35.6003  103.2064     69.78        81          96   \n",
       "1                 Rikitea -23.1203 -134.9692     73.18        73         100   \n",
       "2                 Horsham  51.0640   -0.3272     76.05        52           0   \n",
       "3             Port Alfred -33.5906   26.8910     59.13        72          98   \n",
       "4                    Nome  64.5011 -165.4064     51.87        87         100   \n",
       "..                    ...      ...       ...       ...       ...         ...   \n",
       "504         Graaff-Reinet -32.2522   24.5308     50.92        74          52   \n",
       "505           San Quintín  30.4833 -115.9500     76.95        70          13   \n",
       "506           Antofagasta -23.6500  -70.4000     58.28        80          58   \n",
       "507            Hambantota   6.1241   81.1185     77.34        94          20   \n",
       "508              Zhireken  52.8249  117.3076     51.60        94          15   \n",
       "\n",
       "     Wind Speed Country        Date  \n",
       "0          3.87      CN  1660339551  \n",
       "1         23.51      PF  1660339554  \n",
       "2          5.75      GB  1660339557  \n",
       "3         15.43      ZA  1660339559  \n",
       "4          9.22      US  1660339561  \n",
       "..          ...     ...         ...  \n",
       "504        2.98      ZA  1660340624  \n",
       "505       12.44      MX  1660340625  \n",
       "506        9.40      CL  1660340437  \n",
       "507        2.30      LK  1660340629  \n",
       "508        1.16      RU  1660340631  \n",
       "\n",
       "[509 rows x 9 columns]"
      ]
     },
     "execution_count": 3,
     "metadata": {},
     "output_type": "execute_result"
    }
   ],
   "source": [
    "weather_df = pd.read_csv(\"output_data/cities.csv\", encoding = 'latin-1')\n",
    "\n",
    "weather_df\n",
    "\n",
    "# Encountered an error where there was an invalid UTC-8 byte in the data. I found a suggestion to try encoding it as 'latin-1'\n",
    "# from this website: https://bobbyhadz.com/blog/python-unicodedecodeerror-utf-8-codec-cant-decode-byte"
   ]
  },
  {
   "cell_type": "code",
   "execution_count": 4,
   "metadata": {},
   "outputs": [
    {
     "data": {
      "text/html": [
       "<div>\n",
       "<style scoped>\n",
       "    .dataframe tbody tr th:only-of-type {\n",
       "        vertical-align: middle;\n",
       "    }\n",
       "\n",
       "    .dataframe tbody tr th {\n",
       "        vertical-align: top;\n",
       "    }\n",
       "\n",
       "    .dataframe thead th {\n",
       "        text-align: right;\n",
       "    }\n",
       "</style>\n",
       "<table border=\"1\" class=\"dataframe\">\n",
       "  <thead>\n",
       "    <tr style=\"text-align: right;\">\n",
       "      <th></th>\n",
       "      <th>Lat</th>\n",
       "      <th>Long</th>\n",
       "      <th>Max Temp</th>\n",
       "      <th>Humidity</th>\n",
       "      <th>Cloudiness</th>\n",
       "      <th>Wind Speed</th>\n",
       "      <th>Date</th>\n",
       "    </tr>\n",
       "  </thead>\n",
       "  <tbody>\n",
       "    <tr>\n",
       "      <th>count</th>\n",
       "      <td>509.000000</td>\n",
       "      <td>509.000000</td>\n",
       "      <td>509.000000</td>\n",
       "      <td>509.000000</td>\n",
       "      <td>509.000000</td>\n",
       "      <td>509.000000</td>\n",
       "      <td>5.090000e+02</td>\n",
       "    </tr>\n",
       "    <tr>\n",
       "      <th>mean</th>\n",
       "      <td>20.182657</td>\n",
       "      <td>15.425749</td>\n",
       "      <td>68.671257</td>\n",
       "      <td>71.473477</td>\n",
       "      <td>53.404715</td>\n",
       "      <td>8.283418</td>\n",
       "      <td>1.660340e+09</td>\n",
       "    </tr>\n",
       "    <tr>\n",
       "      <th>std</th>\n",
       "      <td>33.801161</td>\n",
       "      <td>93.075337</td>\n",
       "      <td>14.203572</td>\n",
       "      <td>21.054340</td>\n",
       "      <td>38.025339</td>\n",
       "      <td>5.679901</td>\n",
       "      <td>3.281444e+02</td>\n",
       "    </tr>\n",
       "    <tr>\n",
       "      <th>min</th>\n",
       "      <td>-54.800000</td>\n",
       "      <td>-179.166700</td>\n",
       "      <td>32.000000</td>\n",
       "      <td>1.000000</td>\n",
       "      <td>0.000000</td>\n",
       "      <td>0.000000</td>\n",
       "      <td>1.660339e+09</td>\n",
       "    </tr>\n",
       "    <tr>\n",
       "      <th>25%</th>\n",
       "      <td>-9.800000</td>\n",
       "      <td>-66.850000</td>\n",
       "      <td>57.560000</td>\n",
       "      <td>63.000000</td>\n",
       "      <td>19.000000</td>\n",
       "      <td>3.940000</td>\n",
       "      <td>1.660340e+09</td>\n",
       "    </tr>\n",
       "    <tr>\n",
       "      <th>50%</th>\n",
       "      <td>24.687700</td>\n",
       "      <td>17.691000</td>\n",
       "      <td>69.910000</td>\n",
       "      <td>77.000000</td>\n",
       "      <td>54.000000</td>\n",
       "      <td>7.050000</td>\n",
       "      <td>1.660340e+09</td>\n",
       "    </tr>\n",
       "    <tr>\n",
       "      <th>75%</th>\n",
       "      <td>49.650100</td>\n",
       "      <td>102.265500</td>\n",
       "      <td>79.520000</td>\n",
       "      <td>87.000000</td>\n",
       "      <td>94.000000</td>\n",
       "      <td>11.480000</td>\n",
       "      <td>1.660340e+09</td>\n",
       "    </tr>\n",
       "    <tr>\n",
       "      <th>max</th>\n",
       "      <td>78.218600</td>\n",
       "      <td>179.316700</td>\n",
       "      <td>104.470000</td>\n",
       "      <td>100.000000</td>\n",
       "      <td>100.000000</td>\n",
       "      <td>31.740000</td>\n",
       "      <td>1.660341e+09</td>\n",
       "    </tr>\n",
       "  </tbody>\n",
       "</table>\n",
       "</div>"
      ],
      "text/plain": [
       "              Lat        Long    Max Temp    Humidity  Cloudiness  Wind Speed  \\\n",
       "count  509.000000  509.000000  509.000000  509.000000  509.000000  509.000000   \n",
       "mean    20.182657   15.425749   68.671257   71.473477   53.404715    8.283418   \n",
       "std     33.801161   93.075337   14.203572   21.054340   38.025339    5.679901   \n",
       "min    -54.800000 -179.166700   32.000000    1.000000    0.000000    0.000000   \n",
       "25%     -9.800000  -66.850000   57.560000   63.000000   19.000000    3.940000   \n",
       "50%     24.687700   17.691000   69.910000   77.000000   54.000000    7.050000   \n",
       "75%     49.650100  102.265500   79.520000   87.000000   94.000000   11.480000   \n",
       "max     78.218600  179.316700  104.470000  100.000000  100.000000   31.740000   \n",
       "\n",
       "               Date  \n",
       "count  5.090000e+02  \n",
       "mean   1.660340e+09  \n",
       "std    3.281444e+02  \n",
       "min    1.660339e+09  \n",
       "25%    1.660340e+09  \n",
       "50%    1.660340e+09  \n",
       "75%    1.660340e+09  \n",
       "max    1.660341e+09  "
      ]
     },
     "execution_count": 4,
     "metadata": {},
     "output_type": "execute_result"
    }
   ],
   "source": [
    "weather_df.describe()"
   ]
  },
  {
   "cell_type": "markdown",
   "metadata": {},
   "source": [
    "## Inspect the data and remove the cities where the humidity > 100%.\n",
    "----\n",
    "Skip this step if there are no cities that have humidity > 100%. "
   ]
  },
  {
   "cell_type": "code",
   "execution_count": 78,
   "metadata": {},
   "outputs": [],
   "source": [
    "humidity_too_high = weather_df.loc[weather_df[\"Humidity\"] > 100]"
   ]
  },
  {
   "cell_type": "code",
   "execution_count": 79,
   "metadata": {},
   "outputs": [
    {
     "data": {
      "text/plain": [
       "[]"
      ]
     },
     "execution_count": 79,
     "metadata": {},
     "output_type": "execute_result"
    }
   ],
   "source": [
    "#  Get the indices of cities that have humidity over 100%.\n",
    "index_list = list(humidity_too_high.index)\n",
    "\n",
    "index_list"
   ]
  },
  {
   "cell_type": "code",
   "execution_count": 80,
   "metadata": {},
   "outputs": [
    {
     "data": {
      "text/html": [
       "<div>\n",
       "<style scoped>\n",
       "    .dataframe tbody tr th:only-of-type {\n",
       "        vertical-align: middle;\n",
       "    }\n",
       "\n",
       "    .dataframe tbody tr th {\n",
       "        vertical-align: top;\n",
       "    }\n",
       "\n",
       "    .dataframe thead th {\n",
       "        text-align: right;\n",
       "    }\n",
       "</style>\n",
       "<table border=\"1\" class=\"dataframe\">\n",
       "  <thead>\n",
       "    <tr style=\"text-align: right;\">\n",
       "      <th></th>\n",
       "      <th>City Name</th>\n",
       "      <th>Lat</th>\n",
       "      <th>Long</th>\n",
       "      <th>Max Temp</th>\n",
       "      <th>Humidity</th>\n",
       "      <th>Cloudiness</th>\n",
       "      <th>Wind Speed</th>\n",
       "      <th>Country</th>\n",
       "      <th>Date</th>\n",
       "    </tr>\n",
       "  </thead>\n",
       "  <tbody>\n",
       "    <tr>\n",
       "      <th>0</th>\n",
       "      <td>Linxia Chengguanzhen</td>\n",
       "      <td>35.6003</td>\n",
       "      <td>103.2064</td>\n",
       "      <td>69.78</td>\n",
       "      <td>81</td>\n",
       "      <td>96</td>\n",
       "      <td>3.87</td>\n",
       "      <td>CN</td>\n",
       "      <td>1660339551</td>\n",
       "    </tr>\n",
       "    <tr>\n",
       "      <th>1</th>\n",
       "      <td>Rikitea</td>\n",
       "      <td>-23.1203</td>\n",
       "      <td>-134.9692</td>\n",
       "      <td>73.18</td>\n",
       "      <td>73</td>\n",
       "      <td>100</td>\n",
       "      <td>23.51</td>\n",
       "      <td>PF</td>\n",
       "      <td>1660339554</td>\n",
       "    </tr>\n",
       "    <tr>\n",
       "      <th>2</th>\n",
       "      <td>Horsham</td>\n",
       "      <td>51.0640</td>\n",
       "      <td>-0.3272</td>\n",
       "      <td>76.05</td>\n",
       "      <td>52</td>\n",
       "      <td>0</td>\n",
       "      <td>5.75</td>\n",
       "      <td>GB</td>\n",
       "      <td>1660339557</td>\n",
       "    </tr>\n",
       "    <tr>\n",
       "      <th>3</th>\n",
       "      <td>Port Alfred</td>\n",
       "      <td>-33.5906</td>\n",
       "      <td>26.8910</td>\n",
       "      <td>59.13</td>\n",
       "      <td>72</td>\n",
       "      <td>98</td>\n",
       "      <td>15.43</td>\n",
       "      <td>ZA</td>\n",
       "      <td>1660339559</td>\n",
       "    </tr>\n",
       "    <tr>\n",
       "      <th>4</th>\n",
       "      <td>Nome</td>\n",
       "      <td>64.5011</td>\n",
       "      <td>-165.4064</td>\n",
       "      <td>51.87</td>\n",
       "      <td>87</td>\n",
       "      <td>100</td>\n",
       "      <td>9.22</td>\n",
       "      <td>US</td>\n",
       "      <td>1660339561</td>\n",
       "    </tr>\n",
       "    <tr>\n",
       "      <th>...</th>\n",
       "      <td>...</td>\n",
       "      <td>...</td>\n",
       "      <td>...</td>\n",
       "      <td>...</td>\n",
       "      <td>...</td>\n",
       "      <td>...</td>\n",
       "      <td>...</td>\n",
       "      <td>...</td>\n",
       "      <td>...</td>\n",
       "    </tr>\n",
       "    <tr>\n",
       "      <th>504</th>\n",
       "      <td>Graaff-Reinet</td>\n",
       "      <td>-32.2522</td>\n",
       "      <td>24.5308</td>\n",
       "      <td>50.92</td>\n",
       "      <td>74</td>\n",
       "      <td>52</td>\n",
       "      <td>2.98</td>\n",
       "      <td>ZA</td>\n",
       "      <td>1660340624</td>\n",
       "    </tr>\n",
       "    <tr>\n",
       "      <th>505</th>\n",
       "      <td>San Quintín</td>\n",
       "      <td>30.4833</td>\n",
       "      <td>-115.9500</td>\n",
       "      <td>76.95</td>\n",
       "      <td>70</td>\n",
       "      <td>13</td>\n",
       "      <td>12.44</td>\n",
       "      <td>MX</td>\n",
       "      <td>1660340625</td>\n",
       "    </tr>\n",
       "    <tr>\n",
       "      <th>506</th>\n",
       "      <td>Antofagasta</td>\n",
       "      <td>-23.6500</td>\n",
       "      <td>-70.4000</td>\n",
       "      <td>58.28</td>\n",
       "      <td>80</td>\n",
       "      <td>58</td>\n",
       "      <td>9.40</td>\n",
       "      <td>CL</td>\n",
       "      <td>1660340437</td>\n",
       "    </tr>\n",
       "    <tr>\n",
       "      <th>507</th>\n",
       "      <td>Hambantota</td>\n",
       "      <td>6.1241</td>\n",
       "      <td>81.1185</td>\n",
       "      <td>77.34</td>\n",
       "      <td>94</td>\n",
       "      <td>20</td>\n",
       "      <td>2.30</td>\n",
       "      <td>LK</td>\n",
       "      <td>1660340629</td>\n",
       "    </tr>\n",
       "    <tr>\n",
       "      <th>508</th>\n",
       "      <td>Zhireken</td>\n",
       "      <td>52.8249</td>\n",
       "      <td>117.3076</td>\n",
       "      <td>51.60</td>\n",
       "      <td>94</td>\n",
       "      <td>15</td>\n",
       "      <td>1.16</td>\n",
       "      <td>RU</td>\n",
       "      <td>1660340631</td>\n",
       "    </tr>\n",
       "  </tbody>\n",
       "</table>\n",
       "<p>509 rows × 9 columns</p>\n",
       "</div>"
      ],
      "text/plain": [
       "                City Name      Lat      Long  Max Temp  Humidity  Cloudiness  \\\n",
       "0    Linxia Chengguanzhen  35.6003  103.2064     69.78        81          96   \n",
       "1                 Rikitea -23.1203 -134.9692     73.18        73         100   \n",
       "2                 Horsham  51.0640   -0.3272     76.05        52           0   \n",
       "3             Port Alfred -33.5906   26.8910     59.13        72          98   \n",
       "4                    Nome  64.5011 -165.4064     51.87        87         100   \n",
       "..                    ...      ...       ...       ...       ...         ...   \n",
       "504         Graaff-Reinet -32.2522   24.5308     50.92        74          52   \n",
       "505           San Quintín  30.4833 -115.9500     76.95        70          13   \n",
       "506           Antofagasta -23.6500  -70.4000     58.28        80          58   \n",
       "507            Hambantota   6.1241   81.1185     77.34        94          20   \n",
       "508              Zhireken  52.8249  117.3076     51.60        94          15   \n",
       "\n",
       "     Wind Speed Country        Date  \n",
       "0          3.87      CN  1660339551  \n",
       "1         23.51      PF  1660339554  \n",
       "2          5.75      GB  1660339557  \n",
       "3         15.43      ZA  1660339559  \n",
       "4          9.22      US  1660339561  \n",
       "..          ...     ...         ...  \n",
       "504        2.98      ZA  1660340624  \n",
       "505       12.44      MX  1660340625  \n",
       "506        9.40      CL  1660340437  \n",
       "507        2.30      LK  1660340629  \n",
       "508        1.16      RU  1660340631  \n",
       "\n",
       "[509 rows x 9 columns]"
      ]
     },
     "execution_count": 80,
     "metadata": {},
     "output_type": "execute_result"
    }
   ],
   "source": [
    "# Make a new DataFrame equal to the city data to drop all humidity outliers by index.\n",
    "# Passing \"inplace=False\" will make a copy of the city_data DataFrame, which we call \"clean_city_data\".\n",
    "\n",
    "clean_city_data = weather_df.drop(labels = index_list, axis = 0, inplace = False)\n",
    "\n",
    "clean_city_data"
   ]
  },
  {
   "cell_type": "markdown",
   "metadata": {},
   "source": [
    "## Plotting the Data\n",
    "* Use proper labeling of the plots using plot titles (including date of analysis) and axes labels.\n",
    "* Save the plotted figures as .pngs."
   ]
  },
  {
   "cell_type": "markdown",
   "metadata": {},
   "source": [
    "## Latitude vs. Temperature Plot"
   ]
  },
  {
   "cell_type": "code",
   "execution_count": 86,
   "metadata": {},
   "outputs": [
    {
     "data": {
      "image/png": "[encoded data removed]",
      "text/plain": [
       "<Figure size 432x288 with 1 Axes>"
      ]
     },
     "metadata": {
      "needs_background": "light"
     },
     "output_type": "display_data"
    }
   ],
   "source": [
    "x_axis_lat = clean_city_data[\"Lat\"]\n",
    "y_axis_maxtemp = clean_city_data[\"Max Temp\"]\n",
    "\n",
    "plt.scatter(x_axis_lat, y_axis_maxtemp)\n",
    "plt.title(\"Latitude vs. Max Temperature, 8-12-2022\")\n",
    "plt.xlabel(\"Latitude (degrees)\")\n",
    "plt.ylabel(\"Max Temperature (F)\")\n",
    "plt.grid(True)\n",
    "\n",
    "plt.savefig(\"output_data/lat_maxtemp.png\")\n",
    "plt.show()"
   ]
  },
  {
   "cell_type": "markdown",
   "metadata": {},
   "source": [
    "In this plot, I am comparing a city's latitude to its maximum temperature on 8-12-2022. On the x-axis, negative latitudes indicate cities south of the equator, while positive latitudes indicate cities north of the equator. "
   ]
  },
  {
   "cell_type": "markdown",
   "metadata": {},
   "source": [
    "## Latitude vs. Humidity Plot"
   ]
  },
  {
   "cell_type": "code",
   "execution_count": 85,
   "metadata": {},
   "outputs": [
    {
     "data": {
      "image/png": "[encoded data removed]",
      "text/plain": [
       "<Figure size 432x288 with 1 Axes>"
      ]
     },
     "metadata": {
      "needs_background": "light"
     },
     "output_type": "display_data"
    }
   ],
   "source": [
    "y_axis_hum = clean_city_data[\"Humidity\"]\n",
    "\n",
    "plt.scatter(x_axis_lat, y_axis_hum)\n",
    "plt.title(\"Latitude vs. Humidity, 8-12-2022\")\n",
    "plt.xlabel(\"Latitude (degrees)\")\n",
    "plt.ylabel(\"Relative Humidity (%)\")\n",
    "plt.grid(True)\n",
    "\n",
    "plt.savefig(\"output_data/lat_hum.png\")\n",
    "plt.show()"
   ]
  },
  {
   "cell_type": "markdown",
   "metadata": {},
   "source": [
    "In this plot, I'm comparing a city's latitude with its relative humidity. On the x-axis, negative latitudes indicate cities south of the equator, while positive latitudes indicate cities north of the equator. "
   ]
  },
  {
   "cell_type": "markdown",
   "metadata": {},
   "source": [
    "## Latitude vs. Cloudiness Plot"
   ]
  },
  {
   "cell_type": "code",
   "execution_count": 83,
   "metadata": {},
   "outputs": [
    {
     "data": {
      "image/png": "[encoded data removed]",
      "text/plain": [
       "<Figure size 432x288 with 1 Axes>"
      ]
     },
     "metadata": {
      "needs_background": "light"
     },
     "output_type": "display_data"
    }
   ],
   "source": [
    "y_axis_clouds = clean_city_data[\"Cloudiness\"]\n",
    "\n",
    "plt.scatter(x_axis_lat, y_axis_clouds)\n",
    "plt.title(\"Latitude vs. Cloudiness, 8-12-2022\")\n",
    "plt.xlabel(\"Latitude (degrees)\")\n",
    "plt.ylabel(\"Cloudiness (%)\")\n",
    "plt.grid(True)\n",
    "\n",
    "plt.savefig(\"output_data/lat_clouds.png\")\n",
    "plt.show()"
   ]
  },
  {
   "cell_type": "markdown",
   "metadata": {},
   "source": [
    "In this plot, I'm comparing a city's latitude with the percent cloudiness. Negative latitudes indicate locations in the southern hemisphere, while positive latitudes indicate locations in the northern hemisphere."
   ]
  },
  {
   "cell_type": "markdown",
   "metadata": {},
   "source": [
    "## Latitude vs. Wind Speed Plot"
   ]
  },
  {
   "cell_type": "code",
   "execution_count": 84,
   "metadata": {},
   "outputs": [
    {
     "data": {
      "image/png": "[encoded data removed]",
      "text/plain": [
       "<Figure size 432x288 with 1 Axes>"
      ]
     },
     "metadata": {
      "needs_background": "light"
     },
     "output_type": "display_data"
    }
   ],
   "source": [
    "y_axis_wind = clean_city_data[\"Wind Speed\"]\n",
    "\n",
    "plt.scatter(x_axis_lat, y_axis_wind)\n",
    "plt.title(\"Latitude vs. Wind Speed, 8-12-2022\")\n",
    "plt.xlabel(\"Latitude (degrees)\")\n",
    "plt.ylabel(\"Wind Speed (mph)\")\n",
    "plt.grid(True)\n",
    "\n",
    "plt.savefig(\"output_data/lat_wind.png\")\n",
    "plt.show()"
   ]
  },
  {
   "cell_type": "markdown",
   "metadata": {},
   "source": [
    "In this graph, I'm comparing a city's latitude with the current wind speed. Most of the data are under 15 miles per hour, and are fairly uniform across latitudes. There are some areas with higher wind speeds, with one \"spike\" around 65 degrees North latitude."
   ]
  },
  {
   "cell_type": "markdown",
   "metadata": {},
   "source": [
    "## Linear Regression"
   ]
  },
  {
   "cell_type": "code",
   "execution_count": 55,
   "metadata": {},
   "outputs": [],
   "source": [
    "# Separate cities by Northern or Southern Hemisphere\n",
    "\n",
    "northern_hemisphere = clean_city_data.loc[clean_city_data[\"Lat\"] > 0]\n",
    "southern_hemisphere = clean_city_data.loc[clean_city_data[\"Lat\"] < 0]\n",
    "\n",
    "# Creating x values for plotting linear regression\n",
    "x_north = range(0,80)\n",
    "x_south = range(-60,0)\n"
   ]
  },
  {
   "cell_type": "markdown",
   "metadata": {},
   "source": [
    "####  Northern Hemisphere - Max Temp vs. Latitude Linear Regression"
   ]
  },
  {
   "cell_type": "code",
   "execution_count": 47,
   "metadata": {},
   "outputs": [],
   "source": [
    "# Define Data for graph\n",
    "x_axis_north = northern_hemisphere[\"Lat\"]\n",
    "y_axis_maxtempnorth = northern_hemisphere[\"Max Temp\"]"
   ]
  },
  {
   "cell_type": "code",
   "execution_count": 115,
   "metadata": {},
   "outputs": [
    {
     "name": "stdout",
     "output_type": "stream",
     "text": [
      "LinregressResult(slope=-0.5059501092936942, intercept=90.98674119041691, rvalue=-0.6955766418878279, pvalue=6.655400925383327e-51, stderr=0.028299790060266155, intercept_stderr=1.2673018939517806)\n"
     ]
    }
   ],
   "source": [
    "# Calculating the linear regression and forming the linear regression equation\n",
    "north_maxt_lr = linregress(x_axis_north, y_axis_maxtempnorth)\n",
    "\n",
    "north_maxtemp_linregress = (north_maxt_lr.slope * x_north) + north_maxt_lr.intercept\n",
    "\n",
    "print(north_maxt_lr)"
   ]
  },
  {
   "cell_type": "code",
   "execution_count": 76,
   "metadata": {},
   "outputs": [
    {
     "data": {
      "image/png": "[encoded data removed]",
      "text/plain": [
       "<Figure size 432x288 with 1 Axes>"
      ]
     },
     "metadata": {
      "needs_background": "light"
     },
     "output_type": "display_data"
    }
   ],
   "source": [
    "# Create plot\n",
    "plt.scatter(x_axis_north, y_axis_maxtempnorth)\n",
    "plt.plot(north_maxtemp_linregress, color = 'r')\n",
    "plt.title(\"Linear Regression of Northern Hemisphere Max Temps\")\n",
    "plt.xlabel(\"Latitude (degrees)\")\n",
    "plt.ylabel(\"Max Temperature (Fahrenheit)\")\n",
    "plt.grid(True)\n",
    "plt.annotate(\"y = -0.506x + 90.987\", (0,40), color = 'r')\n",
    "\n",
    "plt.savefig(\"output_data/northern_maxtemp_linreg.png\")\n",
    "plt.show()"
   ]
  },
  {
   "cell_type": "markdown",
   "metadata": {},
   "source": [
    "In this graph, I overlay the linear regression equation on the scatter plot of the northern hemisphere maximum temperature data. The linear regression is decreasing in max temperature as latitude increases. This makes sense because temperatures tend to be higher near the equator and lower away from it. From the linear regression, we get an r-value of -0.696 and a p-value of 6.655x10^-51. This indicates that there is a fairly strong negative correlation, and that it is highly unlikely that this happened by chance."
   ]
  },
  {
   "cell_type": "markdown",
   "metadata": {},
   "source": [
    "####  Southern Hemisphere - Max Temp vs. Latitude Linear Regression"
   ]
  },
  {
   "cell_type": "code",
   "execution_count": 138,
   "metadata": {},
   "outputs": [],
   "source": [
    "# Define Data for graph\n",
    "x_axis_south = southern_hemisphere[\"Lat\"]\n",
    "\n",
    "y_axis_maxtempsouth = southern_hemisphere[\"Max Temp\"]"
   ]
  },
  {
   "cell_type": "code",
   "execution_count": 139,
   "metadata": {},
   "outputs": [
    {
     "name": "stdout",
     "output_type": "stream",
     "text": [
      "LinregressResult(slope=0.7687037911551672, intercept=80.50313146194974, rvalue=0.7987510169070754, pvalue=5.055473264502184e-38, stderr=0.04521453287566871, intercept_stderr=1.1091619071427843)\n"
     ]
    }
   ],
   "source": [
    "# Calculating the linear regression and forming the linear regression equation\n",
    "south_maxt_lr = linregress(x_axis_south, y_axis_maxtempsouth)\n",
    "\n",
    "print(south_maxt_lr)\n",
    "\n",
    "south_maxtemp_linregress = (south_maxt_lr.slope * x_south) + south_maxt_lr.intercept"
   ]
  },
  {
   "cell_type": "code",
   "execution_count": 160,
   "metadata": {},
   "outputs": [
    {
     "data": {
      "image/png": "[encoded data removed]",
      "text/plain": [
       "<Figure size 432x288 with 1 Axes>"
      ]
     },
     "metadata": {
      "needs_background": "light"
     },
     "output_type": "display_data"
    }
   ],
   "source": [
    "# Create plot\n",
    "\n",
    "plt.scatter(x_axis_south, y_axis_maxtempsouth)\n",
    "plt.plot(south_maxtemp_linregress, color = 'r')\n",
    "plt.title(\"Linear Regression of Southern Hemisphere Max Temps\")\n",
    "plt.xlabel(\"Latitude (degrees)\")\n",
    "plt.ylabel(\"Max Temperature (Fahrenheit)\")\n",
    "plt.grid(True)\n",
    "plt.annotate(\"y = 0.769x + 80.503\", (10,80), color = 'r')\n",
    "\n",
    "plt.savefig(\"output_data/south_maxtemps_linreg.png\")\n",
    "plt.show()"
   ]
  },
  {
   "cell_type": "markdown",
   "metadata": {},
   "source": [
    "In this graph, I overlay the linear regression on the southern hemisphere max temperature data. The line is increasing as you go north, which makes sense for the southern hemisphere. In the southern hemisphere, going north is going toward the equator; temperatures typically increase as one approaches the equator. The r-value is pretty big (0.799), indicating that there is a pretty strong correlation between temperature and latitude. The p-value is also very small (5.055x10^-38), so it is highly unlikely that this distribution occurred by chance.\n",
    "\n",
    "*I don't know why the regression line is starting at 0 and going into the positive latitudes. I've been fighting with it, but it's the case for all of my southern hemisphere graphs.*"
   ]
  },
  {
   "cell_type": "markdown",
   "metadata": {},
   "source": [
    "####  Northern Hemisphere - Humidity (%) vs. Latitude Linear Regression"
   ]
  },
  {
   "cell_type": "code",
   "execution_count": 88,
   "metadata": {},
   "outputs": [],
   "source": [
    "# Define data \n",
    "\n",
    "y_axis_hum_north = northern_hemisphere[\"Humidity\"]"
   ]
  },
  {
   "cell_type": "code",
   "execution_count": 106,
   "metadata": {},
   "outputs": [
    {
     "name": "stdout",
     "output_type": "stream",
     "text": [
      "LinregressResult(slope=0.010432795024416183, intercept=70.86484457645838, rvalue=0.009731419476754563, pvalue=0.8574864289765165, stderr=0.0580532752712632, intercept_stderr=2.5997021725144207)\n"
     ]
    }
   ],
   "source": [
    "# Run the linear regression\n",
    "north_humidity_linreg = linregress(x_axis_north, y_axis_hum_north)\n",
    "\n",
    "print(north_humidity_linreg)\n",
    "\n",
    "north_hum_lr = (north_humidity_linreg.slope * x_north) + north_humidity_linreg.intercept "
   ]
  },
  {
   "cell_type": "code",
   "execution_count": 119,
   "metadata": {},
   "outputs": [
    {
     "data": {
      "image/png": "[encoded data removed]",
      "text/plain": [
       "<Figure size 432x288 with 1 Axes>"
      ]
     },
     "metadata": {
      "needs_background": "light"
     },
     "output_type": "display_data"
    }
   ],
   "source": [
    "# Plot the data and linear regression\n",
    "\n",
    "plt.scatter(x_axis_north, y_axis_hum_north)\n",
    "plt.plot(north_hum_lr, color = 'r')\n",
    "plt.title(\"Linear Regression of Northern Hemisphere Humidity\")\n",
    "plt.xlabel(\"Latitude (degrees)\")\n",
    "plt.ylabel(\"Relative Humidity (%)\")\n",
    "plt.grid(True)\n",
    "plt.annotate(\"y = 0.010x + 70.865\", (0,8), color = 'r')\n",
    "\n",
    "plt.savefig(\"output_data/north_hum_linreg.png\")\n",
    "plt.show()"
   ]
  },
  {
   "cell_type": "markdown",
   "metadata": {},
   "source": [
    "In this graph, I overlay the linear regression on the northern hemisphere humidity data. The regression is nearly flat, and stays around 70-75%. This indicates that humidity doesn't tend to change with latitude. The r-value is very low (0.0097), so there is very little correlation evident. The p-value is much higher than 0.05 (0.857), so it is possible that this distribution happened by chance."
   ]
  },
  {
   "cell_type": "markdown",
   "metadata": {},
   "source": [
    "####  Southern Hemisphere - Humidity (%) vs. Latitude Linear Regression"
   ]
  },
  {
   "cell_type": "code",
   "execution_count": 127,
   "metadata": {},
   "outputs": [],
   "source": [
    "# Define data\n",
    "\n",
    "y_axis_hum_south = southern_hemisphere[\"Humidity\"]"
   ]
  },
  {
   "cell_type": "code",
   "execution_count": 136,
   "metadata": {},
   "outputs": [
    {
     "name": "stdout",
     "output_type": "stream",
     "text": [
      "LinregressResult(slope=0.0748997186147717, intercept=70.3026298997355, rvalue=0.047826780841184156, pvalue=0.5406045687290559, stderr=0.12214897874342025, intercept_stderr=2.9964479471931655)\n"
     ]
    }
   ],
   "source": [
    "# Run the linear regression\n",
    "\n",
    "south_hum_linreg = linregress(x_axis_south, y_axis_hum_south)\n",
    "\n",
    "print(south_hum_linreg)\n",
    "\n",
    "south_hum_lr = (south_hum_linreg.slope * x) + south_hum_linreg.intercept"
   ]
  },
  {
   "cell_type": "code",
   "execution_count": 154,
   "metadata": {},
   "outputs": [
    {
     "data": {
      "image/png": "[encoded data removed]",
      "text/plain": [
       "<Figure size 432x288 with 1 Axes>"
      ]
     },
     "metadata": {
      "needs_background": "light"
     },
     "output_type": "display_data"
    }
   ],
   "source": [
    "# Plot the data and linear regression\n",
    "\n",
    "plt.scatter(x_axis_south, y_axis_hum_south)\n",
    "plt.plot(south_hum_lr, color = 'r')\n",
    "plt.title(\"Linear Regression of Southern Hemisphere Humidity\")\n",
    "plt.xlabel(\"Latitude (degrees)\")\n",
    "plt.ylabel(\"Relative Humidity (%)\")\n",
    "plt.grid(True)\n",
    "plt.annotate(\"y = 0.075x + 70.303\", (0,40), color = 'r')\n",
    "\n",
    "plt.savefig(\"output_data/south_hum_linreg.png\")\n",
    "plt.show()"
   ]
  },
  {
   "cell_type": "markdown",
   "metadata": {},
   "source": [
    "In this graph, I overlay the linear regression on the southern hemisphere humidity data. The line is close to flat, indicating there may not be much of a relationship between humidity and the latitude. The r-value is very small (0.048), so there is very little correlation evident. The p-value is also much larger than 0.05 (0.541), so it is conceivable that this distribution happened by chance. \n",
    "\n",
    "*I don't know why the regression line is starting at 0 and going into the positive latitudes. I've been fighting with it, but it's the case for all of my southern hemisphere graphs.*"
   ]
  },
  {
   "cell_type": "markdown",
   "metadata": {},
   "source": [
    "####  Northern Hemisphere - Cloudiness (%) vs. Latitude Linear Regression"
   ]
  },
  {
   "cell_type": "code",
   "execution_count": 144,
   "metadata": {},
   "outputs": [],
   "source": [
    "# Define data\n",
    "\n",
    "y_axis_north_clouds = northern_hemisphere[\"Cloudiness\"]"
   ]
  },
  {
   "cell_type": "code",
   "execution_count": 145,
   "metadata": {},
   "outputs": [
    {
     "name": "stdout",
     "output_type": "stream",
     "text": [
      "LinregressResult(slope=-0.016636514863366262, intercept=55.885143971008695, rvalue=-0.008509248649121212, pvalue=0.8752282603384187, stderr=0.10587129488589546, intercept_stderr=4.741056108130045)\n"
     ]
    }
   ],
   "source": [
    "# Run the linear regression\n",
    "\n",
    "north_clouds_linreg = linregress(x_axis_north, y_axis_north_clouds)\n",
    "\n",
    "print(north_clouds_linreg)\n",
    "\n",
    "north_clouds_lr = (north_clouds_linreg.slope * x_north) + north_clouds_linreg.intercept"
   ]
  },
  {
   "cell_type": "code",
   "execution_count": 151,
   "metadata": {},
   "outputs": [
    {
     "data": {
      "image/png": "[encoded data removed]",
      "text/plain": [
       "<Figure size 432x288 with 1 Axes>"
      ]
     },
     "metadata": {
      "needs_background": "light"
     },
     "output_type": "display_data"
    }
   ],
   "source": [
    "# Plot the data and linear regression\n",
    "\n",
    "plt.scatter(x_axis_north, y_axis_north_clouds)\n",
    "plt.plot(north_clouds_lr, color = 'r')\n",
    "plt.title(\"Linear Regression for Northern Hemisphere Cloudiness\")\n",
    "plt.xlabel(\"Latitude (degrees)\")\n",
    "plt.ylabel(\"Cloudiness (%)\")\n",
    "plt.grid(True)\n",
    "plt.annotate(\"y = -0.017x + 55.885\", (0, 45), color = 'r')\n",
    "\n",
    "plt.savefig(\"output_data/north_clouds_linreg.png\")\n",
    "plt.show()"
   ]
  },
  {
   "cell_type": "markdown",
   "metadata": {},
   "source": [
    "In this graph, I overlay the linear regression over the northern hemisphere cloudiness data. The line is close to flat, indicating there may not be a strong relationship between latitude and cloudiness. The r-value is very small (-0.008), indicating that there is little correlation between the two factors. The p-value is very large (0.875), which indicates that this distribution of cloudiness could be due to chance."
   ]
  },
  {
   "cell_type": "markdown",
   "metadata": {},
   "source": [
    "####  Southern Hemisphere - Cloudiness (%) vs. Latitude Linear Regression"
   ]
  },
  {
   "cell_type": "code",
   "execution_count": 152,
   "metadata": {},
   "outputs": [],
   "source": [
    "# Define data\n",
    "\n",
    "y_axis_south_clouds = southern_hemisphere[\"Cloudiness\"]"
   ]
  },
  {
   "cell_type": "code",
   "execution_count": 153,
   "metadata": {},
   "outputs": [
    {
     "name": "stdout",
     "output_type": "stream",
     "text": [
      "LinregressResult(slope=-0.5255640981308484, intercept=38.6762953658839, rvalue=-0.1917762519443226, pvalue=0.013315688601403534, stderr=0.21002553854891773, intercept_stderr=5.152156000951776)\n"
     ]
    }
   ],
   "source": [
    "# Run the linear regression\n",
    "\n",
    "south_clouds_linreg = linregress(x_axis_south, y_axis_south_clouds)\n",
    "\n",
    "print(south_clouds_linreg)\n",
    "\n",
    "south_clouds_lr = (south_clouds_linreg.slope * x_south) + south_clouds_linreg.intercept"
   ]
  },
  {
   "cell_type": "code",
   "execution_count": 163,
   "metadata": {},
   "outputs": [
    {
     "data": {
      "image/png": "[encoded data removed]",
      "text/plain": [
       "<Figure size 432x288 with 1 Axes>"
      ]
     },
     "metadata": {
      "needs_background": "light"
     },
     "output_type": "display_data"
    }
   ],
   "source": [
    "# Plot the data and linear regression\n",
    "\n",
    "plt.scatter(x_axis_south, y_axis_south_clouds)\n",
    "plt.plot(south_clouds_lr, color = 'r')\n",
    "plt.title(\"Linear Regression for Southern Hemisphere Cloudiness\")\n",
    "plt.xlabel(\"Latitude (degrees)\")\n",
    "plt.ylabel(\"Cloudiness (%)\")\n",
    "plt.grid(True)\n",
    "plt.annotate(\"y = -0.526x + 38.676\", (10,20), color = 'r')\n",
    "\n",
    "plt.savefig(\"output_data/south_clouds_linreg.png\")\n",
    "plt.show()"
   ]
  },
  {
   "cell_type": "markdown",
   "metadata": {},
   "source": [
    "In this graph, I overlay the linear regression on the southern hemisphere cloudiness data. The line has a decreasing slope, indicating that cloudiness decreases as you go north (toward the equator). The r-value is pretty small (-0.192), so there doesn't seem to be a strong connection between latitude and cloudiness. The p-value is less than 0.01, so it seems unlikely that this trend would be due to chance.\n",
    "\n",
    "*I don't know why the regression line is starting at 0 and going into the positive latitudes. I've been fighting with it, but it's the case for all of my southern hemisphere graphs.*"
   ]
  },
  {
   "cell_type": "markdown",
   "metadata": {},
   "source": [
    "####  Northern Hemisphere - Wind Speed (mph) vs. Latitude Linear Regression"
   ]
  },
  {
   "cell_type": "code",
   "execution_count": 165,
   "metadata": {},
   "outputs": [],
   "source": [
    "# Define data\n",
    "\n",
    "y_axis_north_wind = northern_hemisphere[\"Wind Speed\"]"
   ]
  },
  {
   "cell_type": "code",
   "execution_count": 166,
   "metadata": {},
   "outputs": [
    {
     "name": "stdout",
     "output_type": "stream",
     "text": [
      "LinregressResult(slope=0.0019604315041482604, intercept=8.175806038871173, rvalue=0.006808885994895733, pvalue=0.9000141589347563, stderr=0.015591516316511157, intercept_stderr=0.698208648029414)\n"
     ]
    }
   ],
   "source": [
    "# Run the linear regression\n",
    "\n",
    "north_wind_linreg = linregress(x_axis_north, y_axis_north_wind)\n",
    "\n",
    "print(north_wind_linreg)\n",
    "\n",
    "north_wind_lr = (north_wind_linreg.slope * x_north) + north_wind_linreg.intercept"
   ]
  },
  {
   "cell_type": "code",
   "execution_count": 172,
   "metadata": {},
   "outputs": [
    {
     "data": {
      "image/png": "[encoded data removed]",
      "text/plain": [
       "<Figure size 432x288 with 1 Axes>"
      ]
     },
     "metadata": {
      "needs_background": "light"
     },
     "output_type": "display_data"
    }
   ],
   "source": [
    "# Plot the data and linear regression\n",
    "\n",
    "plt.scatter(x_axis_north, y_axis_north_wind)\n",
    "plt.plot(north_wind_lr, color = 'r')\n",
    "plt.title(\"Linear Regression for Northern Hemisphere Wind Speeds\")\n",
    "plt.xlabel(\"Latitude (degrees)\")\n",
    "plt.ylabel(\"Wind Speed (mph)\")\n",
    "plt.grid(True)\n",
    "plt.annotate(\"y = 0.002x + 8.176\", (0,28), color = 'r')\n",
    "\n",
    "plt.savefig(\"output_data/north_wind_linreg.png\")\n",
    "plt.show()"
   ]
  },
  {
   "cell_type": "markdown",
   "metadata": {},
   "source": [
    "In this graph, I overlay the linear regression over the northern hemisphere wind speed data. The slope is nearly flat, which suggests that wind speed isn't overly reliant on latitude. The r-value is very small (0.007), which indicates that there is not much correlation between the two factors. The p-value is very large (0.900), which indicates that this distribution could have occurred by chance."
   ]
  },
  {
   "cell_type": "markdown",
   "metadata": {},
   "source": [
    "####  Southern Hemisphere - Wind Speed (mph) vs. Latitude Linear Regression"
   ]
  },
  {
   "cell_type": "code",
   "execution_count": 173,
   "metadata": {},
   "outputs": [],
   "source": [
    "# Define data\n",
    "\n",
    "y_axis_winds_south = southern_hemisphere[\"Wind Speed\"]"
   ]
  },
  {
   "cell_type": "code",
   "execution_count": 174,
   "metadata": {},
   "outputs": [
    {
     "name": "stdout",
     "output_type": "stream",
     "text": [
      "LinregressResult(slope=-0.02196143858397651, intercept=7.884665321466346, rvalue=-0.05143605211027923, pvalue=0.5104511465445364, stderr=0.03329629976444674, intercept_stderr=0.8167946232925754)\n"
     ]
    }
   ],
   "source": [
    "# Run the linear regression\n",
    "\n",
    "winds_south_linreg = linregress(x_axis_south, y_axis_winds_south)\n",
    "\n",
    "print(winds_south_linreg)\n",
    "\n",
    "winds_south_lr = (winds_south_linreg.slope * x_south) + winds_south_linreg.intercept"
   ]
  },
  {
   "cell_type": "code",
   "execution_count": 177,
   "metadata": {},
   "outputs": [
    {
     "data": {
      "image/png": "[encoded data removed]",
      "text/plain": [
       "<Figure size 432x288 with 1 Axes>"
      ]
     },
     "metadata": {
      "needs_background": "light"
     },
     "output_type": "display_data"
    }
   ],
   "source": [
    "# Plot the data and linear regression\n",
    "\n",
    "plt.scatter(x_axis_south, y_axis_winds_south)\n",
    "plt.plot(winds_south_lr, color = 'r')\n",
    "plt.title(\"Linear Regression for Southern Hemisphere Wind Speeds\")\n",
    "plt.xlabel(\"Latitude (degrees)\")\n",
    "plt.ylabel(\"Wind Speed (mph)\")\n",
    "plt.grid(True)\n",
    "plt.annotate(\"y = -0.022x + 7.885\", (10,12), color = 'r')\n",
    "\n",
    "plt.savefig(\"output_data/south_wind_linreg.png\")\n",
    "plt.show()"
   ]
  },
  {
   "cell_type": "markdown",
   "metadata": {},
   "source": [
    "In this graph, I overlay the linear regression on the southern hemisphere wind speeds data. The slope is slightly negative, and it seems like the wind speed doesn't strongly rely on the latitude. The r-value is very small (0.051), which indicates that there isn't a strong correlation between the two factors. The p-value is very large (0.510), which indicates that this distribution could be generated by chance.\n",
    "\n",
    "*I don't know why the regression line is starting at 0 and going into the positive latitudes. I've been fighting with it, but it's the case for all of my southern hemisphere graphs.*"
   ]
  },
  {
   "cell_type": "markdown",
   "metadata": {},
   "source": [
    "## Observations/Conclusions\n",
    "\n"
   ]
  },
  {
   "cell_type": "markdown",
   "metadata": {},
   "source": [
    " - On the Latitude vs. Max Temperature graph, I notice that there is an inverted \"U\"-shape distribution, and the data are clearly grouped together. The highest part of the inverted \"U\" is around 20 degrees north. This makes sense because it is summer in the northern hemisphere. On the summer solstice, the Sun appears directly overhead at latitude ~23.5 degrees North. The summer solstice (when the Sun is most northerly from the Earth's perspective) was in June, but local temperatures tend to trail by about two months due to the heat capacity of the surface of the Earth. Areas around 23.5 degrees North experience the most direct sunlight in the northern hemisphere summer, so they tend to be some of the hottest areas.\n",
    " \n",
    " - In the Latitude vs. Cloudiness graph, there doesn't seem to be much of a trend. There is a group where it's nearly 100% cloudy, but that's distributed approximately uniformly across latitudes. There are two smaller groups where it's nearly 0% cloudy, and those are centered around 20 degrees South and 40-60 degrees North. There are some horizontal lines, but those are probably due to common rounding values (20%, 40%, 50%, 75%, etc.). The lack of a trend is borne out by the r-values and p-values calculated from the linear regression.\n",
    " \n",
    " - In the Latitude vs Humidity graph, I notice that there is a \"table-shaped\" distribution. There are many points that lie between 60% and 100% humidity, spanning the range of latitudes. There are also two main \"legs\" of the table where the relative humidity is lower. In the southern hemisphere, this is centered around 20 degrees South latitude, while in the northen hemisphere it is more broad, spanning from about 20 degrees to 60 degrees North latitude. The lack of a large-scale trend is borne out by the r-values and p-values calculated from the linear regressions"
   ]
  }
 ],
 "metadata": {
  "anaconda-cloud": {},
  "kernel_info": {
   "name": "python3"
  },
  "kernelspec": {
   "display_name": "Python 3 (ipykernel)",
   "language": "python",
   "name": "python3"
  },
  "language_info": {
   "codemirror_mode": {
    "name": "ipython",
    "version": 3
   },
   "file_extension": ".py",
   "mimetype": "text/x-python",
   "name": "python",
   "nbconvert_exporter": "python",
   "pygments_lexer": "ipython3",
   "version": "3.8.13"
  },
  "latex_envs": {
   "LaTeX_envs_menu_present": true,
   "autoclose": false,
   "autocomplete": true,
   "bibliofile": "biblio.bib",
   "cite_by": "apalike",
   "current_citInitial": 1,
   "eqLabelWithNumbers": true,
   "eqNumInitial": 1,
   "hotkeys": {
    "equation": "Ctrl-E",
    "itemize": "Ctrl-I"
   },
   "labels_anchors": false,
   "latex_user_defs": false,
   "report_style_numbering": false,
   "user_envs_cfg": false
  },
  "nteract": {
   "version": "0.12.3"
  }
 },
 "nbformat": 4,
 "nbformat_minor": 2
}
